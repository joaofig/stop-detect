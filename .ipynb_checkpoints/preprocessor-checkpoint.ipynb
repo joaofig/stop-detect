{
 "cells": [
  {
   "cell_type": "code",
   "execution_count": 1,
   "metadata": {},
   "outputs": [],
   "source": [
    "import numpy as np\n",
    "import pandas as pd\n",
    "import math\n",
    "\n",
    "def haversine_rad(lat1, lng1, lat2, lng2):\n",
    "    dlng = lng2 - lng1\n",
    "    dlat = lat2 - lat1\n",
    "    \n",
    "    a = math.sin(dlat / 2.0) ** 2 + math.cos(lat1) * math.cos(lat2) * math.sin(dlng / 2.0) ** 2\n",
    "    c = 2.0 * math.arcsin(math.sqrt(a))\n",
    "    m = 6378137.0 * c\n",
    "    return m\n",
    "\n",
    "def vector_haversine_rad(lat1, lng1, lat2, lng2):\n",
    "    dlng = lng2 - lng1\n",
    "    dlat = lat2 - lat1\n",
    "    \n",
    "    a = np.sin(dlat / 2.0) ** 2 + np.cos(lat1) * np.cos(lat2) * np.sin(dlng / 2.0) ** 2\n",
    "    c = 2.0 * np.arcsin(np.sqrt(a))\n",
    "    m = 6378137.0 * c\n",
    "    return m"
   ]
  },
  {
   "cell_type": "code",
   "execution_count": 2,
   "metadata": {},
   "outputs": [],
   "source": [
    "def preprocess_data():\n",
    "    column_types = {'id': np.int_, 'date': np.string_, 'latitude': np.float_, 'longitude': np.float_}\n",
    "\n",
    "    for i in range(10357):\n",
    "        taxi = i + 1\n",
    "        \n",
    "        try:\n",
    "            df = pd.read_csv(\"data/\" + str(taxi) + \".txt\", dtype=column_types, names=['id', 'date', 'longitude', 'latitude'])\n",
    "            df.drop_duplicates(inplace=True)\n",
    "            rad_lat = np.array(np.radians(df['latitude']))\n",
    "            rad_lng = np.array(np.radians(df['longitude']))\n",
    "            \n",
    "            distances = vector_haversine_rad(rad_lat[:-1], rad_lng[:-1], rad_lat[1:], rad_lng[1:])\n",
    "\n",
    "            df['rad_lat'] = rad_lat\n",
    "            df['rad_lng'] = rad_lng\n",
    "            df['dist'] = np.insert(distances, 0, 0)\n",
    "            df = df.sort_values(by=['date'])\n",
    "            df.to_csv(\"csv/taxi_\" + str(taxi) + \".csv\", index=False)\n",
    "        except:\n",
    "            print(taxi)"
   ]
  },
  {
   "cell_type": "code",
   "execution_count": 3,
   "metadata": {},
   "outputs": [],
   "source": [
    "preprocess_data()"
   ]
  },
  {
   "cell_type": "code",
   "execution_count": null,
   "metadata": {},
   "outputs": [],
   "source": []
  }
 ],
 "metadata": {
  "kernelspec": {
   "display_name": "Python 3",
   "language": "python",
   "name": "python3"
  },
  "language_info": {
   "codemirror_mode": {
    "name": "ipython",
    "version": 3
   },
   "file_extension": ".py",
   "mimetype": "text/x-python",
   "name": "python",
   "nbconvert_exporter": "python",
   "pygments_lexer": "ipython3",
   "version": "3.6.5"
  }
 },
 "nbformat": 4,
 "nbformat_minor": 2
}
